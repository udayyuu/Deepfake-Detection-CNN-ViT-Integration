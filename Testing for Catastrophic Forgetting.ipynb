{
 "cells": [
  {
   "cell_type": "code",
   "execution_count": 4,
   "id": "a129f115",
   "metadata": {},
   "outputs": [
    {
     "name": "stdout",
     "output_type": "stream",
     "text": [
      "Found 2590 files belonging to 2 classes.\n",
      "\u001b[1m2590/2590\u001b[0m \u001b[32m━━━━━━━━━━━━━━━━━━━━\u001b[0m\u001b[37m\u001b[0m \u001b[1m197s\u001b[0m 76ms/step - acc: 0.7870 - loss: 0.7753\n",
      "Accuracy :  0.7864865064620972\n"
     ]
    }
   ],
   "source": [
    "import numpy as np\n",
    "import matplotlib.pyplot as plt\n",
    "from tensorflow import data as tf_data\n",
    "import keras\n",
    "from keras import models ,layers\n",
    "from warnings import filterwarnings\n",
    "filterwarnings(action='ignore')\n",
    "import os \n",
    "import cv2\n",
    "import numpy as np\n",
    "from tensorflow.keras.models import load_model\n",
    "from tqdm import tqdm\n",
    "\n",
    "\n",
    "image_size = (299, 299)\n",
    "batch_size = 32\n",
    "\n",
    "\n",
    "test_ds = keras.utils.image_dataset_from_directory(\n",
    "    '../Desktop/Data_FF/test_2',\n",
    "    labels=\"inferred\",\n",
    "    label_mode=\"categorical\",\n",
    "    seed=1337,\n",
    "    image_size=image_size,\n",
    "    batch_size=1,\n",
    ")\n",
    "\n",
    "xception_model=load_model(\"10th_May_xception_model_on_FF++DFDC and FF++Tr2_at_3.keras\")\n",
    "\n",
    "\n",
    "result=xception_model.evaluate(test_ds)\n",
    "print(\"Accuracy : \",result[1])\n"
   ]
  },
  {
   "cell_type": "code",
   "execution_count": 6,
   "id": "263e0e00",
   "metadata": {},
   "outputs": [
    {
     "name": "stdout",
     "output_type": "stream",
     "text": [
      "\u001b[1m2590/2590\u001b[0m \u001b[32m━━━━━━━━━━━━━━━━━━━━\u001b[0m\u001b[37m\u001b[0m \u001b[1m204s\u001b[0m 78ms/step - acc: 0.5409 - loss: 1.5917\n",
      "Accuracy :  0.546332061290741\n"
     ]
    }
   ],
   "source": [
    "xception_model=load_model(\"8th_May_xception_model_on_FF++Tr1_at_2.keras\")\n",
    "\n",
    "\n",
    "result=xception_model.evaluate(test_ds)\n",
    "print(\"Accuracy : \",result[1])"
   ]
  },
  {
   "cell_type": "code",
   "execution_count": null,
   "id": "c5c73ec0",
   "metadata": {},
   "outputs": [],
   "source": []
  }
 ],
 "metadata": {
  "kernelspec": {
   "display_name": "Python 3 (ipykernel)",
   "language": "python",
   "name": "python3"
  },
  "language_info": {
   "codemirror_mode": {
    "name": "ipython",
    "version": 3
   },
   "file_extension": ".py",
   "mimetype": "text/x-python",
   "name": "python",
   "nbconvert_exporter": "python",
   "pygments_lexer": "ipython3",
   "version": "3.11.5"
  }
 },
 "nbformat": 4,
 "nbformat_minor": 5
}
