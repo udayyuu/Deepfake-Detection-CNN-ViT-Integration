{
 "cells": [
  {
   "cell_type": "markdown",
   "id": "f64ad7f1",
   "metadata": {},
   "source": [
    "# ViT model For image Classification\n"
   ]
  },
  {
   "cell_type": "code",
   "execution_count": 1,
   "id": "66394bf5",
   "metadata": {},
   "outputs": [],
   "source": [
    "from torchvision.datasets import ImageFolder\n",
    "from torch.utils.data import DataLoader\n",
    "from torchvision import transforms\n",
    "import torch\n",
    "import torch.nn as nn\n",
    "import torch.optim as optim\n",
    "import torch.nn.functional as F\n",
    "import torch.backends.cudnn as cudnn\n",
    "from tqdm import tqdm\n",
    "from einops import rearrange, repeat\n",
    "from einops.layers.torch import Rearrange"
   ]
  },
  {
   "cell_type": "code",
   "execution_count": 2,
   "id": "5f5bd982",
   "metadata": {},
   "outputs": [],
   "source": [
    "TRAIN = r'C:\\Users\\roysu\\Desktop\\Project\\test_folder\\val'\n",
    "VAL = r'C:\\Users\\roysu\\Desktop\\Project\\test_folder\\train'\n",
    "\n",
    "# TRAIN = \"/home/udai/Desktop/Data/train_1\"\n",
    "# VAL = \"/home/udai/Desktop/Data/test_1\"\n",
    "\n",
    "INPUT_HEIGHT = 256\n",
    "INPUT_WIDTH = 256\n",
    "\n",
    "BATCH_SIZE = 8\n",
    "VAL_SPLIT = 0.1\n",
    "EPOCH=25"
   ]
  },
  {
   "cell_type": "code",
   "execution_count": 3,
   "id": "ee4eea03",
   "metadata": {},
   "outputs": [
    {
     "name": "stdout",
     "output_type": "stream",
     "text": [
      "Training dataset contains 19033 samples...\n",
      "Validation dataset contains 76601 samples...\n"
     ]
    }
   ],
   "source": [
    "resize = transforms.Resize(size=(INPUT_HEIGHT,INPUT_WIDTH))\n",
    "hFlip = transforms.RandomHorizontalFlip(p=0.25)\n",
    "vFlip = transforms.RandomVerticalFlip(p=0.25)\n",
    "rotate = transforms.RandomRotation(degrees=15)\n",
    "\n",
    "trainTransforms = transforms.Compose([resize, hFlip, vFlip, rotate,transforms.ToTensor()])\n",
    "valTransforms = transforms.Compose([resize, transforms.ToTensor()])\n",
    "\n",
    "trainDataset = ImageFolder(root=TRAIN,transform=trainTransforms,)\n",
    "valDataset = ImageFolder(root=VAL, transform=valTransforms)\n",
    "\n",
    "print(\"Training dataset contains {} samples...\".format(len(trainDataset)))\n",
    "print(\"Validation dataset contains {} samples...\".format(len(valDataset)))\n",
    "\n",
    "trainloader = DataLoader(trainDataset,batch_size=BATCH_SIZE, shuffle=True)\n",
    "testloader = DataLoader(valDataset, batch_size=BATCH_SIZE)\n"
   ]
  },
  {
   "cell_type": "code",
   "execution_count": 4,
   "id": "73fcba5a",
   "metadata": {},
   "outputs": [
    {
     "name": "stdout",
     "output_type": "stream",
     "text": [
      "cpu\n"
     ]
    }
   ],
   "source": [
    "device = torch.device(\"cuda\" if torch.cuda.is_available() else \"cpu\") \n",
    "print(device)\n",
    "criterion = nn.CrossEntropyLoss()\n",
    "scaler = torch.cuda.amp.GradScaler(enabled=False)"
   ]
  },
  {
   "cell_type": "code",
   "execution_count": 14,
   "id": "32a9da9f",
   "metadata": {},
   "outputs": [],
   "source": [
    "def train(net, epoch):\n",
    "    print('\\nEpoch: %d' % epoch)\n",
    "    optimizer = optim.Adam(net.parameters(), lr=1e-4)\n",
    "    net.train()\n",
    "    train_loss = 0\n",
    "    correct = 0\n",
    "    total = 0\n",
    "    print(\"Start Training\")\n",
    "    for batch_idx, (inputs, targets) in enumerate(tqdm(trainloader)):\n",
    "        inputs, targets = inputs.to(device), targets.to(device)\n",
    "        # Train with amp\n",
    "        with torch.cuda.amp.autocast(enabled=False):\n",
    "            outputs = net(inputs)\n",
    "            loss = criterion(outputs, targets)\n",
    "        scaler.scale(loss).backward()\n",
    "        scaler.step(optimizer)\n",
    "        scaler.update()\n",
    "        optimizer.zero_grad()\n",
    "\n",
    "        train_loss += loss.item()\n",
    "        _, predicted = outputs.max(1)\n",
    "        total += targets.size(0)\n",
    "        correct += predicted.eq(targets).sum().item()\n",
    "\n",
    "#         if batch_idx == len(trainloader) - 1:\n",
    "#               print('train', batch_idx, len(trainloader), 'Loss: %.3f | Acc: %.3f%% (%d/%d)'\n",
    "#                 % (train_loss/(batch_idx+1), 100.*correct/total, correct, total))\n",
    "\n",
    "    return round(train_loss/(batch_idx+1),2),round(100.*correct/total,2)\n",
    "\n",
    "\n",
    "def test(net, epoch):\n",
    "    global best_acc\n",
    "    net.eval()\n",
    "    test_loss = 0\n",
    "    correct = 0\n",
    "    total = 0\n",
    "    with torch.no_grad():\n",
    "        for batch_idx, (inputs, targets) in enumerate(tqdm(testloader)):\n",
    "            inputs, targets = inputs.to(device), targets.to(device)\n",
    "            outputs = net(inputs)\n",
    "            loss = criterion(outputs, targets)\n",
    "\n",
    "            test_loss += loss.item()\n",
    "            _, predicted = outputs.max(1)\n",
    "            total += targets.size(0)\n",
    "            correct += predicted.eq(targets).sum().item()\n",
    "\n",
    "#             if batch_idx == len(testloader) - 1:\n",
    "#                   print('test', batch_idx, len(testloader), 'Loss: %.3f | Acc: %.3f%% (%d/%d)'\n",
    "#                     % (test_loss/(batch_idx+1), 100.*correct/total, correct, total))\n",
    "    acc = round(100.*correct/total,2)\n",
    "\n",
    "    return round(test_loss,2), acc\n",
    "\n",
    "def pair(t):\n",
    "    return t if isinstance(t, tuple) else (t, t)"
   ]
  },
  {
   "cell_type": "code",
   "execution_count": 15,
   "id": "736bc13a",
   "metadata": {},
   "outputs": [],
   "source": [
    "class PreNorm(nn.Module):\n",
    "    def __init__(self, dim, fn):\n",
    "        super().__init__()\n",
    "        self.norm = nn.LayerNorm(dim)\n",
    "        self.fn = fn\n",
    "\n",
    "    def forward(self, x, **kwargs):\n",
    "        return self.fn(self.norm(x), **kwargs)\n",
    "\n",
    "class FeedForward(nn.Module):\n",
    "    def __init__(self, dim, hidden_dim, dropout = 0.):\n",
    "        super().__init__()\n",
    "        self.net = nn.Sequential(\n",
    "          nn.Linear(dim, hidden_dim),\n",
    "          nn.GELU(),\n",
    "          nn.Dropout(dropout),\n",
    "          nn.Linear(hidden_dim, dim),\n",
    "          nn.Dropout(dropout)\n",
    "        )\n",
    "\n",
    "    def forward(self, x):\n",
    "        return self.net(x)"
   ]
  },
  {
   "cell_type": "code",
   "execution_count": 16,
   "id": "7d6e1ed3",
   "metadata": {},
   "outputs": [],
   "source": [
    "class Attention(nn.Module):\n",
    "    def __init__(self, dim, heads = 8, dim_head = 64, dropout = 0.):\n",
    "        super().__init__()\n",
    "        inner_dim = dim_head * heads\n",
    "        project_out = not (heads == 1 and dim_head == dim)\n",
    "\n",
    "        self.heads = heads\n",
    "        self.scale = dim_head ** -0.5\n",
    "\n",
    "        self.attend = nn.Softmax(dim = -1)\n",
    "        self.to_qkv = nn.Linear(dim, inner_dim * 3, bias = False)\n",
    "\n",
    "        self.to_out = nn.Sequential(\n",
    "          nn.Linear(inner_dim, dim),\n",
    "          nn.Dropout(dropout)\n",
    "          ) if project_out else nn.Identity()\n",
    "    def forward(self, x):\n",
    "        qkv = self.to_qkv(x).chunk(3, dim = -1)\n",
    "        q, k, v = map(lambda t: rearrange(t, 'b n (h d) -> b h n d', h = self.heads), qkv)\n",
    "\n",
    "        dots = torch.matmul(q, k.transpose(-1, -2)) * self.scale\n",
    "\n",
    "        attn = self.attend(dots)\n",
    "\n",
    "        out = torch.matmul(attn, v)\n",
    "        out = rearrange(out, 'b h n d -> b n (h d)')\n",
    "        return self.to_out(out)"
   ]
  },
  {
   "cell_type": "code",
   "execution_count": 17,
   "id": "83d10e4a",
   "metadata": {},
   "outputs": [],
   "source": [
    "class Transformer(nn.Module):\n",
    "    def __init__(self, dim, depth, heads, dim_head, mlp_dim, dropout = 0.):\n",
    "        super().__init__()\n",
    "        self.layers = nn.ModuleList([])\n",
    "        for _ in range(depth):\n",
    "            self.layers.append(nn.ModuleList([\n",
    "                PreNorm(dim, Attention(dim, heads = heads, dim_head = dim_head, dropout = dropout)),\n",
    "                PreNorm(dim, FeedForward(dim, mlp_dim, dropout = dropout))\n",
    "                ]))\n",
    "    def forward(self, x):\n",
    "        for attn, ff in self.layers:\n",
    "            x = attn(x) + x\n",
    "            x = ff(x) + x\n",
    "            return x"
   ]
  },
  {
   "cell_type": "code",
   "execution_count": 18,
   "id": "c44a6c10",
   "metadata": {},
   "outputs": [],
   "source": [
    "class ViT(nn.Module):\n",
    "    def __init__(self, *, image_size, patch_size, num_classes, dim, depth, heads, mlp_dim, pool = 'cls', channels = 3, dim_head = 64, dropout = 0., emb_dropout = 0.):\n",
    "        super().__init__()\n",
    "        image_height, image_width = pair(image_size)\n",
    "        patch_height, patch_width = pair(patch_size)\n",
    "\n",
    "        assert image_height % patch_height == 0 and image_width % patch_width == 0, 'Image dimensions must be divisible by the patch size.'\n",
    "\n",
    "        num_patches = (image_height // patch_height) * (image_width // patch_width)\n",
    "        patch_dim = channels * patch_height * patch_width\n",
    "        assert pool in {'cls', 'mean'}, 'pool type must be either cls (cls token) or mean (mean pooling)'\n",
    "\n",
    "        self.to_patch_embedding = nn.Sequential(\n",
    "          Rearrange('b c (h p1) (w p2) -> b (h w) (p1 p2 c)', p1 = patch_height, p2 = patch_width), # from 512,3,32,32 -> 512, 64, 48\n",
    "          nn.Linear(patch_dim, dim),\n",
    "          )\n",
    "\n",
    "        self.pos_embedding = nn.Parameter(torch.randn(1, num_patches + 1, dim))\n",
    "        self.cls_token = nn.Parameter(torch.randn(1, 1, dim))\n",
    "        self.dropout = nn.Dropout(emb_dropout)\n",
    "\n",
    "        self.transformer = Transformer(dim, depth, heads, dim_head, mlp_dim, dropout)\n",
    "\n",
    "        self.pool = pool\n",
    "        self.to_latent = nn.Identity()\n",
    "\n",
    "        self.mlp_head = nn.Sequential(\n",
    "            nn.LayerNorm(dim),\n",
    "            nn.Linear(dim, num_classes)\n",
    "        )\n",
    "\n",
    "    def forward(self, img):\n",
    "        x = self.to_patch_embedding(img)\n",
    "        b, n, _ = x.shape\n",
    "\n",
    "        cls_tokens = repeat(self.cls_token, '() n d -> b n d', b = b)\n",
    "        x = torch.cat((cls_tokens, x), dim=1)\n",
    "        x += self.pos_embedding[:, :(n + 1)]\n",
    "        x = self.dropout(x)\n",
    "\n",
    "        x = self.transformer(x)\n",
    "\n",
    "        x = x.mean(dim = 1) if self.pool == 'mean' else x[:, 0]\n",
    "\n",
    "        x = self.to_latent(x)\n",
    "        return self.mlp_head(x)"
   ]
  },
  {
   "cell_type": "code",
   "execution_count": 19,
   "id": "ea203ffc",
   "metadata": {},
   "outputs": [],
   "source": [
    "net = ViT(\n",
    "    image_size = INPUT_HEIGHT,\n",
    "    patch_size = 16,\n",
    "    num_classes = 2,\n",
    "    dim = BATCH_SIZE,\n",
    "    depth = 6,\n",
    "    heads = 8,\n",
    "    mlp_dim = 512,\n",
    "    dropout = 0.1,\n",
    "    emb_dropout = 0.1\n",
    ")"
   ]
  },
  {
   "cell_type": "code",
   "execution_count": 20,
   "id": "2ae00b3d",
   "metadata": {},
   "outputs": [
    {
     "name": "stdout",
     "output_type": "stream",
     "text": [
      "----------------------------------------------------------------\n",
      "        Layer (type)               Output Shape         Param #\n",
      "================================================================\n",
      "         Rearrange-1             [-1, 256, 768]               0\n",
      "            Linear-2               [-1, 256, 8]           6,152\n",
      "           Dropout-3               [-1, 257, 8]               0\n",
      "         LayerNorm-4               [-1, 257, 8]              16\n",
      "            Linear-5            [-1, 257, 1536]          12,288\n",
      "           Softmax-6          [-1, 8, 257, 257]               0\n",
      "            Linear-7               [-1, 257, 8]           4,104\n",
      "           Dropout-8               [-1, 257, 8]               0\n",
      "         Attention-9               [-1, 257, 8]               0\n",
      "          PreNorm-10               [-1, 257, 8]               0\n",
      "        LayerNorm-11               [-1, 257, 8]              16\n",
      "           Linear-12             [-1, 257, 512]           4,608\n",
      "             GELU-13             [-1, 257, 512]               0\n",
      "          Dropout-14             [-1, 257, 512]               0\n",
      "           Linear-15               [-1, 257, 8]           4,104\n",
      "          Dropout-16               [-1, 257, 8]               0\n",
      "      FeedForward-17               [-1, 257, 8]               0\n",
      "          PreNorm-18               [-1, 257, 8]               0\n",
      "      Transformer-19               [-1, 257, 8]               0\n",
      "         Identity-20                    [-1, 8]               0\n",
      "        LayerNorm-21                    [-1, 8]              16\n",
      "           Linear-22                    [-1, 2]              18\n",
      "================================================================\n",
      "Total params: 31,322\n",
      "Trainable params: 31,322\n",
      "Non-trainable params: 0\n",
      "----------------------------------------------------------------\n",
      "Input size (MB): 0.75\n",
      "Forward/backward pass size (MB): 11.76\n",
      "Params size (MB): 0.12\n",
      "Estimated Total Size (MB): 12.63\n",
      "----------------------------------------------------------------\n"
     ]
    }
   ],
   "source": [
    "from torchsummary import summary\n",
    "summary(net,(3,256,256))"
   ]
  },
  {
   "cell_type": "code",
   "execution_count": 21,
   "id": "fcfae889",
   "metadata": {},
   "outputs": [],
   "source": [
    "net = torch.nn.DataParallel(net)"
   ]
  },
  {
   "cell_type": "code",
   "execution_count": 63,
   "id": "484732d3",
   "metadata": {},
   "outputs": [
    {
     "name": "stdout",
     "output_type": "stream",
     "text": [
      "\n",
      "Epoch: 0\n",
      "Start Training\n"
     ]
    },
    {
     "name": "stderr",
     "output_type": "stream",
     "text": [
      "  0%|                                                                                         | 0/2380 [00:00<?, ?it/s]\n",
      "  0%|                                                                                         | 0/9576 [00:00<?, ?it/s]\n"
     ]
    },
    {
     "name": "stdout",
     "output_type": "stream",
     "text": [
      "Epoch : 0 Train_loss : 0.38 Train_acc : 87.5 Test_loss : 0.16 Test_acc 100.0 \n",
      "\n",
      "Epoch: 1\n",
      "Start Training\n"
     ]
    },
    {
     "name": "stderr",
     "output_type": "stream",
     "text": [
      "  0%|                                                                                         | 0/2380 [00:00<?, ?it/s]\n",
      "  0%|                                                                                         | 0/9576 [00:00<?, ?it/s]\n"
     ]
    },
    {
     "name": "stdout",
     "output_type": "stream",
     "text": [
      "Epoch : 1 Train_loss : 0.38 Train_acc : 87.5 Test_loss : 0.16 Test_acc 100.0 \n",
      "\n",
      "Epoch: 2\n",
      "Start Training\n"
     ]
    },
    {
     "name": "stderr",
     "output_type": "stream",
     "text": [
      "  0%|                                                                                         | 0/2380 [00:00<?, ?it/s]\n",
      "  0%|                                                                                         | 0/9576 [00:00<?, ?it/s]\n"
     ]
    },
    {
     "name": "stdout",
     "output_type": "stream",
     "text": [
      "Epoch : 2 Train_loss : 0.38 Train_acc : 87.5 Test_loss : 0.16 Test_acc 100.0 \n",
      "\n",
      "Epoch: 3\n",
      "Start Training\n"
     ]
    },
    {
     "name": "stderr",
     "output_type": "stream",
     "text": [
      "  0%|                                                                                         | 0/2380 [00:00<?, ?it/s]\n",
      "  0%|                                                                                         | 0/9576 [00:00<?, ?it/s]\n"
     ]
    },
    {
     "name": "stdout",
     "output_type": "stream",
     "text": [
      "Epoch : 3 Train_loss : 0.17 Train_acc : 100.0 Test_loss : 0.15 Test_acc 100.0 \n",
      "\n",
      "Epoch: 4\n",
      "Start Training\n"
     ]
    },
    {
     "name": "stderr",
     "output_type": "stream",
     "text": [
      "  0%|                                                                                         | 0/2380 [00:00<?, ?it/s]\n",
      "  0%|                                                                                         | 0/9576 [00:00<?, ?it/s]\n"
     ]
    },
    {
     "name": "stdout",
     "output_type": "stream",
     "text": [
      "Epoch : 4 Train_loss : 0.18 Train_acc : 100.0 Test_loss : 0.15 Test_acc 100.0 \n",
      "\n",
      "Epoch: 5\n",
      "Start Training\n"
     ]
    },
    {
     "name": "stderr",
     "output_type": "stream",
     "text": [
      "  0%|                                                                                         | 0/2380 [00:00<?, ?it/s]\n",
      "  0%|                                                                                         | 0/9576 [00:00<?, ?it/s]\n"
     ]
    },
    {
     "name": "stdout",
     "output_type": "stream",
     "text": [
      "Epoch : 5 Train_loss : 0.6 Train_acc : 75.0 Test_loss : 0.15 Test_acc 100.0 \n",
      "\n",
      "Epoch: 6\n",
      "Start Training\n"
     ]
    },
    {
     "name": "stderr",
     "output_type": "stream",
     "text": [
      "  0%|                                                                                         | 0/2380 [00:00<?, ?it/s]\n",
      "  0%|                                                                                         | 0/9576 [00:00<?, ?it/s]\n"
     ]
    },
    {
     "name": "stdout",
     "output_type": "stream",
     "text": [
      "Epoch : 6 Train_loss : 0.59 Train_acc : 75.0 Test_loss : 0.16 Test_acc 100.0 \n",
      "\n",
      "Epoch: 7\n",
      "Start Training\n"
     ]
    },
    {
     "name": "stderr",
     "output_type": "stream",
     "text": [
      "  0%|                                                                                         | 0/2380 [00:00<?, ?it/s]\n",
      "  0%|                                                                                         | 0/9576 [00:00<?, ?it/s]\n"
     ]
    },
    {
     "name": "stdout",
     "output_type": "stream",
     "text": [
      "Epoch : 7 Train_loss : 0.39 Train_acc : 87.5 Test_loss : 0.15 Test_acc 100.0 \n",
      "\n",
      "Epoch: 8\n",
      "Start Training\n"
     ]
    },
    {
     "name": "stderr",
     "output_type": "stream",
     "text": [
      "  0%|                                                                                         | 0/2380 [00:00<?, ?it/s]\n",
      "  0%|                                                                                         | 0/9576 [00:00<?, ?it/s]\n"
     ]
    },
    {
     "name": "stdout",
     "output_type": "stream",
     "text": [
      "Epoch : 8 Train_loss : 0.17 Train_acc : 100.0 Test_loss : 0.15 Test_acc 100.0 \n",
      "\n",
      "Epoch: 9\n",
      "Start Training\n"
     ]
    },
    {
     "name": "stderr",
     "output_type": "stream",
     "text": [
      "  0%|                                                                                         | 0/2380 [00:00<?, ?it/s]\n",
      "  0%|                                                                                         | 0/9576 [00:00<?, ?it/s]\n"
     ]
    },
    {
     "name": "stdout",
     "output_type": "stream",
     "text": [
      "Epoch : 9 Train_loss : 0.16 Train_acc : 100.0 Test_loss : 0.15 Test_acc 100.0 \n",
      "\n",
      "Epoch: 10\n",
      "Start Training\n"
     ]
    },
    {
     "name": "stderr",
     "output_type": "stream",
     "text": [
      "  0%|                                                                                         | 0/2380 [00:00<?, ?it/s]\n",
      "  0%|                                                                                         | 0/9576 [00:00<?, ?it/s]\n"
     ]
    },
    {
     "name": "stdout",
     "output_type": "stream",
     "text": [
      "Epoch : 10 Train_loss : 0.17 Train_acc : 100.0 Test_loss : 0.14 Test_acc 100.0 \n",
      "\n",
      "Epoch: 11\n",
      "Start Training\n"
     ]
    },
    {
     "name": "stderr",
     "output_type": "stream",
     "text": [
      "  0%|                                                                                         | 0/2380 [00:00<?, ?it/s]\n",
      "  0%|                                                                                         | 0/9576 [00:00<?, ?it/s]\n"
     ]
    },
    {
     "name": "stdout",
     "output_type": "stream",
     "text": [
      "Epoch : 11 Train_loss : 0.16 Train_acc : 100.0 Test_loss : 0.14 Test_acc 100.0 \n",
      "\n",
      "Epoch: 12\n",
      "Start Training\n"
     ]
    },
    {
     "name": "stderr",
     "output_type": "stream",
     "text": [
      "  0%|                                                                                         | 0/2380 [00:00<?, ?it/s]\n",
      "  0%|                                                                                         | 0/9576 [00:00<?, ?it/s]\n"
     ]
    },
    {
     "name": "stdout",
     "output_type": "stream",
     "text": [
      "Epoch : 12 Train_loss : 0.38 Train_acc : 87.5 Test_loss : 0.14 Test_acc 100.0 \n",
      "\n",
      "Epoch: 13\n",
      "Start Training\n"
     ]
    },
    {
     "name": "stderr",
     "output_type": "stream",
     "text": [
      "  0%|                                                                                         | 0/2380 [00:00<?, ?it/s]\n",
      "  0%|                                                                                         | 0/9576 [00:00<?, ?it/s]\n"
     ]
    },
    {
     "name": "stdout",
     "output_type": "stream",
     "text": [
      "Epoch : 13 Train_loss : 0.85 Train_acc : 62.5 Test_loss : 0.15 Test_acc 100.0 \n",
      "\n",
      "Epoch: 14\n",
      "Start Training\n"
     ]
    },
    {
     "name": "stderr",
     "output_type": "stream",
     "text": [
      "  0%|                                                                                         | 0/2380 [00:00<?, ?it/s]\n",
      "  0%|                                                                                         | 0/9576 [00:00<?, ?it/s]\n"
     ]
    },
    {
     "name": "stdout",
     "output_type": "stream",
     "text": [
      "Epoch : 14 Train_loss : 0.58 Train_acc : 75.0 Test_loss : 0.15 Test_acc 100.0 \n",
      "\n",
      "Epoch: 15\n",
      "Start Training\n"
     ]
    },
    {
     "name": "stderr",
     "output_type": "stream",
     "text": [
      "  0%|                                                                                         | 0/2380 [00:00<?, ?it/s]\n",
      "  0%|                                                                                         | 0/9576 [00:00<?, ?it/s]\n"
     ]
    },
    {
     "name": "stdout",
     "output_type": "stream",
     "text": [
      "Epoch : 15 Train_loss : 0.4 Train_acc : 87.5 Test_loss : 0.15 Test_acc 100.0 \n",
      "\n",
      "Epoch: 16\n",
      "Start Training\n"
     ]
    },
    {
     "name": "stderr",
     "output_type": "stream",
     "text": [
      "  0%|                                                                                         | 0/2380 [00:00<?, ?it/s]\n",
      "  0%|                                                                                         | 0/9576 [00:00<?, ?it/s]\n"
     ]
    },
    {
     "name": "stdout",
     "output_type": "stream",
     "text": [
      "Epoch : 16 Train_loss : 1.02 Train_acc : 50.0 Test_loss : 0.15 Test_acc 100.0 \n",
      "\n",
      "Epoch: 17\n",
      "Start Training\n"
     ]
    },
    {
     "name": "stderr",
     "output_type": "stream",
     "text": [
      "  0%|                                                                                         | 0/2380 [00:00<?, ?it/s]\n",
      "  0%|                                                                                         | 0/9576 [00:00<?, ?it/s]\n"
     ]
    },
    {
     "name": "stdout",
     "output_type": "stream",
     "text": [
      "Epoch : 17 Train_loss : 0.39 Train_acc : 87.5 Test_loss : 0.15 Test_acc 100.0 \n",
      "\n",
      "Epoch: 18\n",
      "Start Training\n"
     ]
    },
    {
     "name": "stderr",
     "output_type": "stream",
     "text": [
      "  0%|                                                                                         | 0/2380 [00:00<?, ?it/s]\n",
      "  0%|                                                                                         | 0/9576 [00:00<?, ?it/s]\n"
     ]
    },
    {
     "name": "stdout",
     "output_type": "stream",
     "text": [
      "Epoch : 18 Train_loss : 0.16 Train_acc : 100.0 Test_loss : 0.14 Test_acc 100.0 \n",
      "\n",
      "Epoch: 19\n",
      "Start Training\n"
     ]
    },
    {
     "name": "stderr",
     "output_type": "stream",
     "text": [
      "  0%|                                                                                         | 0/2380 [00:00<?, ?it/s]\n",
      "  0%|                                                                                         | 0/9576 [00:00<?, ?it/s]\n"
     ]
    },
    {
     "name": "stdout",
     "output_type": "stream",
     "text": [
      "Epoch : 19 Train_loss : 0.4 Train_acc : 87.5 Test_loss : 0.14 Test_acc 100.0 \n",
      "\n",
      "Epoch: 20\n",
      "Start Training\n"
     ]
    },
    {
     "name": "stderr",
     "output_type": "stream",
     "text": [
      "  0%|                                                                                         | 0/2380 [00:00<?, ?it/s]\n",
      "  0%|                                                                                         | 0/9576 [00:00<?, ?it/s]\n"
     ]
    },
    {
     "name": "stdout",
     "output_type": "stream",
     "text": [
      "Epoch : 20 Train_loss : 0.17 Train_acc : 100.0 Test_loss : 0.14 Test_acc 100.0 \n",
      "\n",
      "Epoch: 21\n",
      "Start Training\n"
     ]
    },
    {
     "name": "stderr",
     "output_type": "stream",
     "text": [
      "  0%|                                                                                         | 0/2380 [00:00<?, ?it/s]\n",
      "  0%|                                                                                         | 0/9576 [00:00<?, ?it/s]\n"
     ]
    },
    {
     "name": "stdout",
     "output_type": "stream",
     "text": [
      "Epoch : 21 Train_loss : 0.58 Train_acc : 75.0 Test_loss : 0.14 Test_acc 100.0 \n",
      "\n",
      "Epoch: 22\n",
      "Start Training\n"
     ]
    },
    {
     "name": "stderr",
     "output_type": "stream",
     "text": [
      "  0%|                                                                                         | 0/2380 [00:00<?, ?it/s]\n",
      "  0%|                                                                                         | 0/9576 [00:00<?, ?it/s]\n"
     ]
    },
    {
     "name": "stdout",
     "output_type": "stream",
     "text": [
      "Epoch : 22 Train_loss : 0.38 Train_acc : 87.5 Test_loss : 0.14 Test_acc 100.0 \n",
      "\n",
      "Epoch: 23\n",
      "Start Training\n"
     ]
    },
    {
     "name": "stderr",
     "output_type": "stream",
     "text": [
      "  0%|                                                                                         | 0/2380 [00:00<?, ?it/s]\n",
      "  0%|                                                                                         | 0/9576 [00:00<?, ?it/s]\n"
     ]
    },
    {
     "name": "stdout",
     "output_type": "stream",
     "text": [
      "Epoch : 23 Train_loss : 1.02 Train_acc : 50.0 Test_loss : 0.15 Test_acc 100.0 \n",
      "\n",
      "Epoch: 24\n",
      "Start Training\n"
     ]
    },
    {
     "name": "stderr",
     "output_type": "stream",
     "text": [
      "  0%|                                                                                         | 0/2380 [00:00<?, ?it/s]\n",
      "  0%|                                                                                         | 0/9576 [00:00<?, ?it/s]"
     ]
    },
    {
     "name": "stdout",
     "output_type": "stream",
     "text": [
      "Epoch : 24 Train_loss : 0.4 Train_acc : 87.5 Test_loss : 0.14 Test_acc 100.0 \n"
     ]
    },
    {
     "name": "stderr",
     "output_type": "stream",
     "text": [
      "\n"
     ]
    }
   ],
   "source": [
    "import datetime\n",
    "import os\n",
    "time=datetime.datetime.now()\n",
    "output_folder=\"Output_at_{}-{}-{}_H{}M{}\".format(time.day,time.month,time.year,time.hour,time.minute)\n",
    "\n",
    "os.mkdir(output_folder)\n",
    "cwd=os.getcwd()\n",
    "\n",
    "\n",
    "for i in range(EPOCH):\n",
    "    t_loss,t_acc=train(net, i)\n",
    "    v_loss,v_acc=test(net, i)\n",
    "    print(f\"Epoch : {i} Train_loss : {t_loss} Train_acc : {t_acc} Test_loss : {v_loss} Test_acc {v_acc} \")\n",
    "    with open(file=os.path.join(cwd,output_folder,\"model_logs.txt\"), mode=\"a\") as log:\n",
    "        log.write(f\"Epoch : {i} Train_loss : {t_loss} Train_acc : {t_acc} Test_loss : {v_loss} Test_acc {v_acc} \\n\")\n",
    "    torch.save(net,os.path.join(cwd,output_folder,f\"model_at_epoch_{i}.model\"))"
   ]
  },
  {
   "cell_type": "code",
   "execution_count": 61,
   "id": "b863ffe6",
   "metadata": {},
   "outputs": [
    {
     "data": {
      "text/plain": [
       "11"
      ]
     },
     "execution_count": 61,
     "metadata": {},
     "output_type": "execute_result"
    }
   ],
   "source": [
    "time.hour"
   ]
  },
  {
   "cell_type": "code",
   "execution_count": null,
   "id": "e84a9fec",
   "metadata": {},
   "outputs": [],
   "source": []
  }
 ],
 "metadata": {
  "kernelspec": {
   "display_name": "Python 3 (ipykernel)",
   "language": "python",
   "name": "python3"
  },
  "language_info": {
   "codemirror_mode": {
    "name": "ipython",
    "version": 3
   },
   "file_extension": ".py",
   "mimetype": "text/x-python",
   "name": "python",
   "nbconvert_exporter": "python",
   "pygments_lexer": "ipython3",
   "version": "3.11.5"
  }
 },
 "nbformat": 4,
 "nbformat_minor": 5
}
